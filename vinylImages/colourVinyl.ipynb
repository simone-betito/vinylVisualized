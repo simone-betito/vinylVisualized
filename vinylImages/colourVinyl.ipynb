{
 "cells": [
  {
   "cell_type": "code",
   "execution_count": 2,
   "metadata": {},
   "outputs": [
    {
     "name": "stdout",
     "output_type": "stream",
     "text": [
      "Collecting colorgram.py\n",
      "  Downloading colorgram.py-1.2.0-py2.py3-none-any.whl (6.2 kB)\n",
      "Requirement already satisfied: pillow>=3.3.1 in /Users/SimoneBetito/opt/anaconda3/lib/python3.7/site-packages (from colorgram.py) (7.0.0)\n",
      "Installing collected packages: colorgram.py\n",
      "Successfully installed colorgram.py-1.2.0\n",
      "Note: you may need to restart the kernel to use updated packages.\n"
     ]
    }
   ],
   "source": [
    "pip install colorgram.py"
   ]
  },
  {
   "cell_type": "code",
   "execution_count": 11,
   "metadata": {},
   "outputs": [
    {
     "name": "stdout",
     "output_type": "stream",
     "text": [
      "Collecting opencv-python\n",
      "  Downloading opencv_python-4.2.0.34-cp37-cp37m-macosx_10_9_x86_64.whl (49.1 MB)\n",
      "\u001b[K     |████████████████████████████████| 49.1 MB 11.7 MB/s eta 0:00:01\n",
      "\u001b[?25hRequirement already satisfied: numpy>=1.14.5 in /Users/SimoneBetito/opt/anaconda3/lib/python3.7/site-packages (from opencv-python) (1.18.1)\n",
      "Installing collected packages: opencv-python\n",
      "Successfully installed opencv-python-4.2.0.34\n",
      "Note: you may need to restart the kernel to use updated packages.\n"
     ]
    }
   ],
   "source": [
    "pip install opencv-python"
   ]
  },
  {
   "cell_type": "code",
   "execution_count": 17,
   "metadata": {},
   "outputs": [
    {
     "name": "stdout",
     "output_type": "stream",
     "text": [
      "Collecting glob3\n",
      "  Downloading glob3-0.0.1.tar.gz (669 bytes)\n",
      "Building wheels for collected packages: glob3\n",
      "  Building wheel for glob3 (setup.py) ... \u001b[?25ldone\n",
      "\u001b[?25h  Created wheel for glob3: filename=glob3-0.0.1-py3-none-any.whl size=1676 sha256=77eb39c9f27b1856843d258ce3a14487eaf627d59cb0b6b3c8a5e47b87bf49a2\n",
      "  Stored in directory: /Users/SimoneBetito/Library/Caches/pip/wheels/e5/f8/94/7dbf119182513c275e6b2ea761983692f23f8be8c22909b73d\n",
      "Successfully built glob3\n",
      "Installing collected packages: glob3\n",
      "Successfully installed glob3-0.0.1\n",
      "Note: you may need to restart the kernel to use updated packages.\n"
     ]
    }
   ],
   "source": [
    "pip install glob3"
   ]
  },
  {
   "cell_type": "code",
   "execution_count": 63,
   "metadata": {},
   "outputs": [
    {
     "name": "stdout",
     "output_type": "stream",
     "text": [
      "Requirement already satisfied: numpy in /Users/SimoneBetito/opt/anaconda3/lib/python3.7/site-packages (1.18.1)\n",
      "Note: you may need to restart the kernel to use updated packages.\n"
     ]
    }
   ],
   "source": [
    "pip install numpy"
   ]
  },
  {
   "cell_type": "code",
   "execution_count": 66,
   "metadata": {},
   "outputs": [],
   "source": [
    "import colorgram\n",
    "import cv2\n",
    "import glob\n",
    "import numpy as np\n",
    "import matplotlib.pyplot as plt\n",
    "from skimage import io"
   ]
  },
  {
   "cell_type": "code",
   "execution_count": 39,
   "metadata": {},
   "outputs": [],
   "source": [
    "images = glob.glob(\"*.jpg\")"
   ]
  },
  {
   "cell_type": "code",
   "execution_count": 40,
   "metadata": {},
   "outputs": [
    {
     "name": "stdout",
     "output_type": "stream",
     "text": [
      "['SufjanStevensCarrie.jpg', 'StarsLaGuardia.jpg', 'EdithPiafLEssentiel.jpg', 'IronAndWineGhost.jpg', 'AC10.jpg', 'WarOnDrugsWagonwheel.jpg', 'BrokenSocialSceneFeelGoodLost.jpg', 'WarOnDrugsFutureWeather.jpg', 'FeistLetItDie.jpg', 'DavidBowieLetsDance.jpg', 'BonIverBonIver.jpg', 'TheSmithsSmiths.jpg', 'SoccerMommyClean.jpg', 'BahamasIsAfie.jpg', 'BikiniKill.jpg', 'AttackInBlackMarriage.jpg', 'SinFangFlowers.jpg', 'WashedOutParacosm.jpg', 'AbsolutelyFreeUFO.jpg', 'SnailMailLush.jpg', 'PatWatsonClosetoParidise.jpg', 'MWardTransfiguration.jpg', 'CrowdedHouse.jpg', 'BrokenSocialSceneBeeHives.jpg', 'DillyDallySore.jpg', 'DeathCabTransat.jpg', 'EveningHymnsSpectral.jpg', 'KurtVileWakingOn.jpg', 'ParisSwings.jpg', 'JonsiGo.jpg', 'WarOnDrugsSlaveAmbient.jpg', 'UnknownMortalOrchestra.jpg', 'DLBD.jpg', 'DavidBowieZiggyStardust.jpg', 'TheNationalIAmEasyToFind.jpg', 'WarOnDrugsLostInADream.jpg', 'DryTheRiverShallow.jpg', 'NickDrakePinkMoon.jpg', 'BrendanCanningHomeWrecking.jpg', 'WarOnDrugsComeToTheCity.jpg']\n"
     ]
    }
   ],
   "source": [
    "print(images)"
   ]
  },
  {
   "cell_type": "code",
   "execution_count": 53,
   "metadata": {},
   "outputs": [],
   "source": [
    "colorList = []"
   ]
  },
  {
   "cell_type": "code",
   "execution_count": 54,
   "metadata": {},
   "outputs": [],
   "source": [
    "for image in images:\n",
    "    colorList.append(colorgram.extract(image, 1))"
   ]
  },
  {
   "cell_type": "code",
   "execution_count": 55,
   "metadata": {},
   "outputs": [
    {
     "name": "stdout",
     "output_type": "stream",
     "text": [
      "[[<colorgram.py Color: Rgb(r=74, g=92, b=99), 100.0%>], [<colorgram.py Color: Rgb(r=38, g=31, b=23), 100.0%>], [<colorgram.py Color: Rgb(r=25, g=22, b=8), 100.0%>], [<colorgram.py Color: Rgb(r=140, g=85, b=49), 100.0%>], [<colorgram.py Color: Rgb(r=182, g=163, b=149), 100.0%>], [<colorgram.py Color: Rgb(r=251, g=251, b=250), 100.0%>], [<colorgram.py Color: Rgb(r=182, g=163, b=147), 100.0%>], [<colorgram.py Color: Rgb(r=248, g=240, b=215), 100.0%>], [<colorgram.py Color: Rgb(r=43, g=34, b=29), 100.0%>], [<colorgram.py Color: Rgb(r=47, g=27, b=33), 100.0%>], [<colorgram.py Color: Rgb(r=231, g=230, b=222), 100.0%>], [<colorgram.py Color: Rgb(r=65, g=18, b=34), 100.0%>], [<colorgram.py Color: Rgb(r=55, g=31, b=24), 100.0%>], [<colorgram.py Color: Rgb(r=213, g=210, b=203), 100.0%>], [<colorgram.py Color: Rgb(r=15, g=16, b=21), 100.0%>], [<colorgram.py Color: Rgb(r=111, g=100, b=51), 100.0%>], [<colorgram.py Color: Rgb(r=222, g=210, b=214), 100.0%>], [<colorgram.py Color: Rgb(r=230, g=219, b=201), 100.0%>], [<colorgram.py Color: Rgb(r=71, g=16, b=27), 100.0%>], [<colorgram.py Color: Rgb(r=222, g=81, b=70), 100.0%>], [<colorgram.py Color: Rgb(r=243, g=229, b=166), 100.0%>], [<colorgram.py Color: Rgb(r=175, g=169, b=132), 100.0%>], [<colorgram.py Color: Rgb(r=213, g=138, b=115), 100.0%>], [<colorgram.py Color: Rgb(r=180, g=171, b=161), 100.0%>], [<colorgram.py Color: Rgb(r=199, g=165, b=131), 100.0%>], [<colorgram.py Color: Rgb(r=210, g=156, b=129), 100.0%>], [<colorgram.py Color: Rgb(r=170, g=160, b=150), 100.0%>], [<colorgram.py Color: Rgb(r=199, g=173, b=107), 100.0%>], [<colorgram.py Color: Rgb(r=81, g=83, b=110), 100.0%>], [<colorgram.py Color: Rgb(r=235, g=234, b=228), 100.0%>], [<colorgram.py Color: Rgb(r=228, g=226, b=223), 100.0%>], [<colorgram.py Color: Rgb(r=48, g=30, b=36), 100.0%>], [<colorgram.py Color: Rgb(r=21, g=21, b=21), 100.0%>], [<colorgram.py Color: Rgb(r=38, g=32, b=27), 100.0%>], [<colorgram.py Color: Rgb(r=171, g=170, b=164), 100.0%>], [<colorgram.py Color: Rgb(r=28, g=32, b=28), 100.0%>], [<colorgram.py Color: Rgb(r=24, g=38, b=31), 100.0%>], [<colorgram.py Color: Rgb(r=50, g=49, b=55), 100.0%>], [<colorgram.py Color: Rgb(r=233, g=161, b=68), 100.0%>], [<colorgram.py Color: Rgb(r=237, g=237, b=242), 100.0%>]]\n"
     ]
    }
   ],
   "source": [
    "print(colorList)"
   ]
  },
  {
   "cell_type": "code",
   "execution_count": 57,
   "metadata": {},
   "outputs": [],
   "source": [
    "rgbList = []"
   ]
  },
  {
   "cell_type": "code",
   "execution_count": 61,
   "metadata": {},
   "outputs": [],
   "source": [
    "for color in colorList:\n",
    "    color = color[0].rgb\n",
    "    rgbList.append(color)\n",
    "    "
   ]
  },
  {
   "cell_type": "code",
   "execution_count": 62,
   "metadata": {},
   "outputs": [
    {
     "data": {
      "text/plain": [
       "[Rgb(r=74, g=92, b=99),\n",
       " Rgb(r=38, g=31, b=23),\n",
       " Rgb(r=25, g=22, b=8),\n",
       " Rgb(r=140, g=85, b=49),\n",
       " Rgb(r=182, g=163, b=149),\n",
       " Rgb(r=251, g=251, b=250),\n",
       " Rgb(r=182, g=163, b=147),\n",
       " Rgb(r=248, g=240, b=215),\n",
       " Rgb(r=43, g=34, b=29),\n",
       " Rgb(r=47, g=27, b=33),\n",
       " Rgb(r=231, g=230, b=222),\n",
       " Rgb(r=65, g=18, b=34),\n",
       " Rgb(r=55, g=31, b=24),\n",
       " Rgb(r=213, g=210, b=203),\n",
       " Rgb(r=15, g=16, b=21),\n",
       " Rgb(r=111, g=100, b=51),\n",
       " Rgb(r=222, g=210, b=214),\n",
       " Rgb(r=230, g=219, b=201),\n",
       " Rgb(r=71, g=16, b=27),\n",
       " Rgb(r=222, g=81, b=70),\n",
       " Rgb(r=243, g=229, b=166),\n",
       " Rgb(r=175, g=169, b=132),\n",
       " Rgb(r=213, g=138, b=115),\n",
       " Rgb(r=180, g=171, b=161),\n",
       " Rgb(r=199, g=165, b=131),\n",
       " Rgb(r=210, g=156, b=129),\n",
       " Rgb(r=170, g=160, b=150),\n",
       " Rgb(r=199, g=173, b=107),\n",
       " Rgb(r=81, g=83, b=110),\n",
       " Rgb(r=235, g=234, b=228),\n",
       " Rgb(r=228, g=226, b=223),\n",
       " Rgb(r=48, g=30, b=36),\n",
       " Rgb(r=21, g=21, b=21),\n",
       " Rgb(r=38, g=32, b=27),\n",
       " Rgb(r=171, g=170, b=164),\n",
       " Rgb(r=28, g=32, b=28),\n",
       " Rgb(r=24, g=38, b=31),\n",
       " Rgb(r=50, g=49, b=55),\n",
       " Rgb(r=233, g=161, b=68),\n",
       " Rgb(r=237, g=237, b=242)]"
      ]
     },
     "execution_count": 62,
     "metadata": {},
     "output_type": "execute_result"
    }
   ],
   "source": [
    "rgbList"
   ]
  },
  {
   "cell_type": "code",
   "execution_count": null,
   "metadata": {},
   "outputs": [],
   "source": []
  }
 ],
 "metadata": {
  "kernelspec": {
   "display_name": "Python 3",
   "language": "python",
   "name": "python3"
  },
  "language_info": {
   "codemirror_mode": {
    "name": "ipython",
    "version": 3
   },
   "file_extension": ".py",
   "mimetype": "text/x-python",
   "name": "python",
   "nbconvert_exporter": "python",
   "pygments_lexer": "ipython3",
   "version": "3.7.6"
  }
 },
 "nbformat": 4,
 "nbformat_minor": 4
}
